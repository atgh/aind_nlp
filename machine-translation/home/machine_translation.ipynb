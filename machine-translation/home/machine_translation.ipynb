{
 "cells": [
  {
   "cell_type": "markdown",
   "metadata": {
    "collapsed": true
   },
   "source": [
    "# Artificial Intelligence Nanodegree\n",
    "## Machine Translation Project\n",
    "In this notebook, sections that end with **'(IMPLEMENTATION)'** in the header indicate that the following blocks of code will require additional functionality which you must provide. Please be sure to read the instructions carefully!\n",
    "\n",
    "## Introduction\n",
    "In this notebook, you will build a deep neural network that functions as part of an end-to-end machine translation pipeline. Your completed pipeline will accept English text as input and return the French translation.\n",
    "\n",
    "- **Preprocess** - You'll convert text to sequence of integers.\n",
    "- **Models** Create models which accepts a sequence of integers as input and returns a probability distribution over possible translations. After learning about the basic types of neural networks that are often used for machine translation, you will engage in your own investigations, to design your own model!\n",
    "- **Prediction** Run the model on English text."
   ]
  },
  {
   "cell_type": "code",
   "execution_count": 1,
   "metadata": {},
   "outputs": [],
   "source": [
    "                                                                                                                                                                                                                                                                                                                                            %load_ext autoreload\n",
    "%aimport helper, tests\n",
    "%autoreload 1"
   ]
  },
  {
   "cell_type": "code",
   "execution_count": 2,
   "metadata": {},
   "outputs": [
    {
     "name": "stderr",
     "output_type": "stream",
     "text": [
      "Using TensorFlow backend.\n"
     ]
    }
   ],
   "source": [
    "import collections\n",
    "\n",
    "import helper\n",
    "import numpy as np\n",
    "import project_tests as tests\n",
    "\n",
    "from keras.preprocessing.text import Tokenizer\n",
    "from keras.preprocessing.sequence import pad_sequences\n",
    "from keras.models import Model\n",
    "from keras.layers import GRU, Input, Dense, TimeDistributed, Activation, RepeatVector, Bidirectional\n",
    "from keras.layers.embeddings import Embedding\n",
    "from keras.optimizers import Adam\n",
    "from keras.losses import sparse_categorical_crossentropy"
   ]
  },
  {
   "cell_type": "markdown",
   "metadata": {},
   "source": [
    "### Verify access to the GPU\n",
    "The following test applies only if you expect to be using a GPU, e.g., while running in a Udacity Workspace or using an AWS instance with GPU support. Run the next cell, and verify that the device_type is \"GPU\".\n",
    "- If the device is not GPU & you are running from a Udacity Workspace, then save your workspace with the icon at the top, then click \"enable\" at the bottom of the workspace.\n",
    "- If the device is not GPU & you are running from an AWS instance, then refer to the cloud computing instructions in the classroom to verify your setup steps."
   ]
  },
  {
   "cell_type": "code",
   "execution_count": 3,
   "metadata": {},
   "outputs": [
    {
     "name": "stdout",
     "output_type": "stream",
     "text": [
      "[name: \"/cpu:0\"\n",
      "device_type: \"CPU\"\n",
      "memory_limit: 268435456\n",
      "locality {\n",
      "}\n",
      "incarnation: 16163274412739310145\n",
      ", name: \"/gpu:0\"\n",
      "device_type: \"GPU\"\n",
      "memory_limit: 357302272\n",
      "locality {\n",
      "  bus_id: 1\n",
      "}\n",
      "incarnation: 6296414827967303070\n",
      "physical_device_desc: \"device: 0, name: Tesla K80, pci bus id: 0000:00:04.0\"\n",
      "]\n"
     ]
    }
   ],
   "source": [
    "from tensorflow.python.client import device_lib\n",
    "print(device_lib.list_local_devices())"
   ]
  },
  {
   "cell_type": "markdown",
   "metadata": {},
   "source": [
    "## Dataset\n",
    "We begin by investigating the dataset that will be used to train and evaluate your pipeline.  The most common datasets used for machine translation are from [WMT](http://www.statmt.org/).  However, that will take a long time to train a neural network on.  We'll be using a dataset we created for this project that contains a small vocabulary.  You'll be able to train your model in a reasonable time with this dataset.\n",
    "### Load Data\n",
    "The data is located in `data/small_vocab_en` and `data/small_vocab_fr`. The `small_vocab_en` file contains English sentences with their French translations in the `small_vocab_fr` file. Load the English and French data from these files from running the cell below."
   ]
  },
  {
   "cell_type": "code",
   "execution_count": 4,
   "metadata": {},
   "outputs": [
    {
     "name": "stdout",
     "output_type": "stream",
     "text": [
      "Dataset Loaded\n"
     ]
    }
   ],
   "source": [
    "# Load English data\n",
    "english_sentences = helper.load_data('data/small_vocab_en')\n",
    "# Load French data\n",
    "french_sentences = helper.load_data('data/small_vocab_fr')\n",
    "\n",
    "print('Dataset Loaded')"
   ]
  },
  {
   "cell_type": "markdown",
   "metadata": {},
   "source": [
    "### Files\n",
    "Each line in `small_vocab_en` contains an English sentence with the respective translation in each line of `small_vocab_fr`.  View the first two lines from each file."
   ]
  },
  {
   "cell_type": "code",
   "execution_count": 5,
   "metadata": {},
   "outputs": [
    {
     "name": "stdout",
     "output_type": "stream",
     "text": [
      "small_vocab_en Line 1:  new jersey is sometimes quiet during autumn , and it is snowy in april .\n",
      "small_vocab_fr Line 1:  new jersey est parfois calme pendant l' automne , et il est neigeux en avril .\n",
      "small_vocab_en Line 2:  the united states is usually chilly during july , and it is usually freezing in november .\n",
      "small_vocab_fr Line 2:  les états-unis est généralement froid en juillet , et il gèle habituellement en novembre .\n"
     ]
    }
   ],
   "source": [
    "for sample_i in range(2):\n",
    "    print('small_vocab_en Line {}:  {}'.format(sample_i + 1, english_sentences[sample_i]))\n",
    "    print('small_vocab_fr Line {}:  {}'.format(sample_i + 1, french_sentences[sample_i]))"
   ]
  },
  {
   "cell_type": "markdown",
   "metadata": {},
   "source": [
    "From looking at the sentences, you can see they have been preprocessed already.  The puncuations have been delimited using spaces. All the text have been converted to lowercase.  This should save you some time, but the text requires more preprocessing.\n",
    "### Vocabulary\n",
    "The complexity of the problem is determined by the complexity of the vocabulary.  A more complex vocabulary is a more complex problem.  Let's look at the complexity of the dataset we'll be working with."
   ]
  },
  {
   "cell_type": "code",
   "execution_count": 6,
   "metadata": {},
   "outputs": [
    {
     "name": "stdout",
     "output_type": "stream",
     "text": [
      "1823250 English words.\n",
      "227 unique English words.\n",
      "10 Most common words in the English dataset:\n",
      "\"is\" \",\" \".\" \"in\" \"it\" \"during\" \"the\" \"but\" \"and\" \"sometimes\"\n",
      "\n",
      "1961295 French words.\n",
      "355 unique French words.\n",
      "10 Most common words in the French dataset:\n",
      "\"est\" \".\" \",\" \"en\" \"il\" \"les\" \"mais\" \"et\" \"la\" \"parfois\"\n"
     ]
    }
   ],
   "source": [
    "english_words_counter = collections.Counter([word for sentence in english_sentences for word in sentence.split()])\n",
    "french_words_counter = collections.Counter([word for sentence in french_sentences for word in sentence.split()])\n",
    "\n",
    "print('{} English words.'.format(len([word for sentence in english_sentences for word in sentence.split()])))\n",
    "print('{} unique English words.'.format(len(english_words_counter)))\n",
    "print('10 Most common words in the English dataset:')\n",
    "print('\"' + '\" \"'.join(list(zip(*english_words_counter.most_common(10)))[0]) + '\"')\n",
    "print()\n",
    "print('{} French words.'.format(len([word for sentence in french_sentences for word in sentence.split()])))\n",
    "print('{} unique French words.'.format(len(french_words_counter)))\n",
    "print('10 Most common words in the French dataset:')\n",
    "print('\"' + '\" \"'.join(list(zip(*french_words_counter.most_common(10)))[0]) + '\"')"
   ]
  },
  {
   "cell_type": "markdown",
   "metadata": {},
   "source": [
    "For comparison, _Alice's Adventures in Wonderland_ contains 2,766 unique words of a total of 15,500 words.\n",
    "## Preprocess\n",
    "For this project, you won't use text data as input to your model. Instead, you'll convert the text into sequences of integers using the following preprocess methods:\n",
    "1. Tokenize the words into ids\n",
    "2. Add padding to make all the sequences the same length.\n",
    "\n",
    "Time to start preprocessing the data...\n",
    "### Tokenize (IMPLEMENTATION)\n",
    "For a neural network to predict on text data, it first has to be turned into data it can understand. Text data like \"dog\" is a sequence of ASCII character encodings.  Since a neural network is a series of multiplication and addition operations, the input data needs to be number(s).\n",
    "\n",
    "We can turn each character into a number or each word into a number.  These are called character and word ids, respectively.  Character ids are used for character level models that generate text predictions for each character.  A word level model uses word ids that generate text predictions for each word.  Word level models tend to learn better, since they are lower in complexity, so we'll use those.\n",
    "\n",
    "Turn each sentence into a sequence of words ids using Keras's [`Tokenizer`](https://keras.io/preprocessing/text/#tokenizer) function. Use this function to tokenize `english_sentences` and `french_sentences` in the cell below.\n",
    "\n",
    "Running the cell will run `tokenize` on sample data and show output for debugging."
   ]
  },
  {
   "cell_type": "code",
   "execution_count": 7,
   "metadata": {},
   "outputs": [
    {
     "name": "stdout",
     "output_type": "stream",
     "text": [
      "{'the': 1, 'quick': 2, 'a': 3, 'brown': 4, 'fox': 5, 'jumps': 6, 'over': 7, 'lazy': 8, 'dog': 9, 'by': 10, 'jove': 11, 'my': 12, 'study': 13, 'of': 14, 'lexicography': 15, 'won': 16, 'prize': 17, 'this': 18, 'is': 19, 'short': 20, 'sentence': 21}\n",
      "\n",
      "Sequence 1 in x\n",
      "  Input:  The quick brown fox jumps over the lazy dog .\n",
      "  Output: [1, 2, 4, 5, 6, 7, 1, 8, 9]\n",
      "Sequence 2 in x\n",
      "  Input:  By Jove , my quick study of lexicography won a prize .\n",
      "  Output: [10, 11, 12, 2, 13, 14, 15, 16, 3, 17]\n",
      "Sequence 3 in x\n",
      "  Input:  This is a short sentence .\n",
      "  Output: [18, 19, 3, 20, 21]\n"
     ]
    }
   ],
   "source": [
    "def tokenize(x):\n",
    "    \"\"\"\n",
    "    Tokenize x\n",
    "    :param x: List of sentences/strings to be tokenized\n",
    "    :return: Tuple of (tokenized x data, tokenizer used to tokenize x)\n",
    "    \"\"\"\n",
    "    # TODO: Implement\n",
    "    tokenizer = Tokenizer()\n",
    "    tokenizer.fit_on_texts(x)\n",
    "    tokenized_data = tokenizer.texts_to_sequences(x)\n",
    "    return (tokenized_data, tokenizer)\n",
    "\n",
    "tests.test_tokenize(tokenize)\n",
    "\n",
    "# Tokenize Example output\n",
    "text_sentences = [\n",
    "    'The quick brown fox jumps over the lazy dog .',\n",
    "    'By Jove , my quick study of lexicography won a prize .',\n",
    "    'This is a short sentence .']\n",
    "text_tokenized, text_tokenizer = tokenize(text_sentences)\n",
    "print(text_tokenizer.word_index)\n",
    "print()\n",
    "for sample_i, (sent, token_sent) in enumerate(zip(text_sentences, text_tokenized)):\n",
    "    print('Sequence {} in x'.format(sample_i + 1))\n",
    "    print('  Input:  {}'.format(sent))\n",
    "    print('  Output: {}'.format(token_sent))"
   ]
  },
  {
   "cell_type": "markdown",
   "metadata": {},
   "source": [
    "### Padding (IMPLEMENTATION)\n",
    "When batching the sequence of word ids together, each sequence needs to be the same length.  Since sentences are dynamic in length, we can add padding to the end of the sequences to make them the same length.\n",
    "\n",
    "Make sure all the English sequences have the same length and all the French sequences have the same length by adding padding to the **end** of each sequence using Keras's [`pad_sequences`](https://keras.io/preprocessing/sequence/#pad_sequences) function."
   ]
  },
  {
   "cell_type": "code",
   "execution_count": 8,
   "metadata": {},
   "outputs": [
    {
     "name": "stdout",
     "output_type": "stream",
     "text": [
      "Sequence 1 in x\n",
      "  Input:  [1 2 4 5 6 7 1 8 9]\n",
      "  Output: [1 2 4 5 6 7 1 8 9 0]\n",
      "Sequence 2 in x\n",
      "  Input:  [10 11 12  2 13 14 15 16  3 17]\n",
      "  Output: [10 11 12  2 13 14 15 16  3 17]\n",
      "Sequence 3 in x\n",
      "  Input:  [18 19  3 20 21]\n",
      "  Output: [18 19  3 20 21  0  0  0  0  0]\n"
     ]
    }
   ],
   "source": [
    "def pad(x, length=None):\n",
    "    \"\"\"\n",
    "    Pad x\n",
    "    :param x: List of sequences.\n",
    "    :param length: Length to pad the sequence to.  If None, use length of longest sequence in x.\n",
    "    :return: Padded numpy array of sequences\n",
    "    \"\"\"\n",
    "    # TODO: Implement\n",
    "    if length is None:\n",
    "        length = max([len(seq) for seq in x])\n",
    "    padded_x = pad_sequences(x, maxlen=length, padding='post')\n",
    "    return padded_x\n",
    "\n",
    "tests.test_pad(pad)\n",
    "\n",
    "# Pad Tokenized output\n",
    "test_pad = pad(text_tokenized)\n",
    "for sample_i, (token_sent, pad_sent) in enumerate(zip(text_tokenized, test_pad)):\n",
    "    print('Sequence {} in x'.format(sample_i + 1))\n",
    "    print('  Input:  {}'.format(np.array(token_sent)))\n",
    "    print('  Output: {}'.format(pad_sent))"
   ]
  },
  {
   "cell_type": "markdown",
   "metadata": {},
   "source": [
    "### Preprocess Pipeline\n",
    "Your focus for this project is to build neural network architecture, so we won't ask you to create a preprocess pipeline.  Instead, we've provided you with the implementation of the `preprocess` function."
   ]
  },
  {
   "cell_type": "code",
   "execution_count": 9,
   "metadata": {},
   "outputs": [
    {
     "name": "stdout",
     "output_type": "stream",
     "text": [
      "Data Preprocessed\n",
      "Max English sentence length: 15\n",
      "Max French sentence length: 21\n",
      "English vocabulary size: 200\n",
      "French vocabulary size: 345\n"
     ]
    }
   ],
   "source": [
    "def preprocess(x, y):\n",
    "    \"\"\"\n",
    "    Preprocess x and y\n",
    "    :param x: Feature List of sentences\n",
    "    :param y: Label List of sentences\n",
    "    :return: Tuple of (Preprocessed x, Preprocessed y, x tokenizer, y tokenizer)\n",
    "    \"\"\"\n",
    "    preprocess_x, x_tk = tokenize(x)\n",
    "    preprocess_y, y_tk = tokenize(y)\n",
    "\n",
    "    preprocess_x = pad(preprocess_x)\n",
    "    preprocess_y = pad(preprocess_y)\n",
    "\n",
    "    # Keras's sparse_categorical_crossentropy function requires the labels to be in 3 dimensions\n",
    "    preprocess_y = preprocess_y.reshape(*preprocess_y.shape, 1)\n",
    "\n",
    "    return preprocess_x, preprocess_y, x_tk, y_tk\n",
    "\n",
    "preproc_english_sentences, preproc_french_sentences, english_tokenizer, french_tokenizer =\\\n",
    "    preprocess(english_sentences, french_sentences)\n",
    "    \n",
    "max_english_sequence_length = preproc_english_sentences.shape[1]\n",
    "max_french_sequence_length = preproc_french_sentences.shape[1]\n",
    "english_vocab_size = len(english_tokenizer.word_index)+1\n",
    "french_vocab_size = len(french_tokenizer.word_index)+1\n",
    "\n",
    "print('Data Preprocessed')\n",
    "print(\"Max English sentence length:\", max_english_sequence_length)\n",
    "print(\"Max French sentence length:\", max_french_sequence_length)\n",
    "print(\"English vocabulary size:\", english_vocab_size)\n",
    "print(\"French vocabulary size:\", french_vocab_size)"
   ]
  },
  {
   "cell_type": "markdown",
   "metadata": {},
   "source": [
    "### Splitting Train And Test Data (Optional Enhancement)\n",
    "\n",
    "We split the data into separate training & test datasets, then retrain each of the models using only the training set and evaluate the prediction accuracy using the hold out test set. \n",
    "\n",
    "We hold out 10% of the data for testing. From the 90% of the train data, 10% is used for validation.\n",
    "\n",
    "Note that we use the tokenizers based on the entire dataset to tokenize train and test data. This is justifiable because the tokenizers created over broader vocabulary are practically feasible (only need the dataset that would encompass the vocabulary in test cases, and not specific test data or sentences which would compromise the test isolation), convenient, and yield better accuracy."
   ]
  },
  {
   "cell_type": "code",
   "execution_count": 10,
   "metadata": {},
   "outputs": [
    {
     "name": "stdout",
     "output_type": "stream",
     "text": [
      "Data Preprocessed\n",
      "Train set: Preprocessed English sentences shape: (124074, 15)\n",
      "Train set: Preprocessed French sentences shape: (124074, 21, 1)\n",
      "Test set: Preprocessed English sentences shape: (13787, 15)\n",
      "Test set: Preprocessed French sentences shape: (13787, 21, 1)\n",
      "\n",
      "Train samples:\n",
      "Train English Line 1:  california is sometimes wonderful during fall , but it is usually dry in june .\n",
      "Train French Line 1:  californie est parfois merveilleux au cours de l' automne , mais il est généralement sec en juin .\n",
      "Train English Line 2:  india is beautiful during may , but it is usually cold in january .\n",
      "Train French Line 2:  l' inde est beau au mois de mai , mais il est généralement froid en janvier .\n",
      "\n",
      "Test samples:\n",
      "Test English Line 1:  your least favorite fruit is the orange , but my least favorite is the pear .\n",
      "Test French Line 1:  votre fruit préféré est moins l'orange , mais mon préféré moins est la poire .\n",
      "Test English Line 2:  paris is sometimes beautiful during autumn , but it is sometimes chilly in march .\n",
      "Test French Line 2:  paris est parfois belle en automne , mais il est parfois frisquet en mars .\n"
     ]
    }
   ],
   "source": [
    "import os\n",
    "from keras.models import load_model\n",
    "from sklearn.model_selection import train_test_split\n",
    "MODELS_DIR = 'models' #directory to save trained models\n",
    "\n",
    "english_sentences_train, english_sentences_test, \\\n",
    "french_sentences_train, french_sentences_test =\\\n",
    "            train_test_split(english_sentences, french_sentences, \n",
    "                             test_size=0.1, random_state=10)\n",
    "\n",
    "#Preprocess train and test datasets\n",
    "#   We use english and french tokenizers created using the entire\n",
    "#      dataset and pad train and test french sentences to \n",
    "#      the respective max sequence length.\n",
    "#   1. Tokenize using english or french tokenizer\n",
    "#   2. Pad to max sentence length\n",
    "#   3. Reshape if necessary\n",
    "\n",
    "# Train data\n",
    "preproc_english_sentences_train = english_tokenizer.texts_to_sequences(\n",
    "                                        english_sentences_train)\n",
    "preproc_english_sentences_train = pad(preproc_english_sentences_train,\n",
    "                                     max_english_sequence_length)\n",
    "preproc_french_sentences_train = french_tokenizer.texts_to_sequences(\n",
    "                                        french_sentences_train)\n",
    "preproc_french_sentences_train = pad(preproc_french_sentences_train,\n",
    "                                     max_french_sequence_length)\n",
    "# Test data\n",
    "preproc_english_sentences_test = english_tokenizer.texts_to_sequences(\n",
    "                                        english_sentences_test)\n",
    "preproc_english_sentences_test = pad(preproc_english_sentences_test,\n",
    "                                     max_english_sequence_length)\n",
    "preproc_french_sentences_test = french_tokenizer.texts_to_sequences(\n",
    "                                        french_sentences_test)\n",
    "preproc_french_sentences_test = pad(preproc_french_sentences_test,\n",
    "                                     max_french_sequence_length)\n",
    "\n",
    "# Rehsape the train and test label data to the dimensions required \n",
    "preproc_french_sentences_train = preproc_french_sentences_train.reshape(\n",
    "                    (*preproc_french_sentences_train.shape, 1))\n",
    "preproc_french_sentences_test = preproc_french_sentences_test.reshape(\n",
    "                    (*preproc_french_sentences_test.shape, 1))\n",
    "\n",
    "print('Data Preprocessed')\n",
    "print(\"Train set: Preprocessed English sentences shape:\", \\\n",
    "                      preproc_english_sentences_train.shape)\n",
    "print(\"Train set: Preprocessed French sentences shape:\", \\\n",
    "                      preproc_french_sentences_train.shape)\n",
    "print(\"Test set: Preprocessed English sentences shape:\", \\\n",
    "                      preproc_english_sentences_test.shape)\n",
    "print(\"Test set: Preprocessed French sentences shape:\", \\\n",
    "                      preproc_french_sentences_test.shape)\n",
    "print(\"\\nTrain samples:\")\n",
    "for sample_i in range(2):\n",
    "    print('Train English Line {}:  {}'.format(sample_i + 1, english_sentences_train[sample_i]))\n",
    "    print('Train French Line {}:  {}'.format(sample_i + 1, french_sentences_train[sample_i]))\n",
    "print(\"\\nTest samples:\")\n",
    "for sample_i in range(2):\n",
    "    print('Test English Line {}:  {}'.format(sample_i + 1, english_sentences_test[sample_i]))\n",
    "    print('Test French Line {}:  {}'.format(sample_i + 1, french_sentences_test[sample_i]))"
   ]
  },
  {
   "cell_type": "markdown",
   "metadata": {},
   "source": [
    "## Models\n",
    "In this section, you will experiment with various neural network architectures.\n",
    "You will begin by training four relatively simple architectures.\n",
    "- Model 1 is a simple RNN\n",
    "- Model 2 is a RNN with Embedding\n",
    "- Model 3 is a Bidirectional RNN\n",
    "- Model 4 is an optional Encoder-Decoder RNN\n",
    "\n",
    "After experimenting with the four simple architectures, you will construct a deeper architecture that is designed to outperform all four models.\n",
    "### Ids Back to Text\n",
    "The neural network will be translating the input to words ids, which isn't the final form we want.  We want the French translation.  The function `logits_to_text` will bridge the gab between the logits from the neural network to the French translation.  You'll be using this function to better understand the output of the neural network."
   ]
  },
  {
   "cell_type": "code",
   "execution_count": 11,
   "metadata": {},
   "outputs": [
    {
     "name": "stdout",
     "output_type": "stream",
     "text": [
      "`logits_to_text` function loaded.\n"
     ]
    }
   ],
   "source": [
    "def logits_to_text(logits, tokenizer):\n",
    "    \"\"\"\n",
    "    Turn logits from a neural network into text using the tokenizer\n",
    "    :param logits: Logits from a neural network\n",
    "    :param tokenizer: Keras Tokenizer fit on the labels\n",
    "    :return: String that represents the text of the logits\n",
    "    \"\"\"\n",
    "    index_to_words = {id: word for word, id in tokenizer.word_index.items()}\n",
    "    index_to_words[0] = '<PAD>'\n",
    "\n",
    "    return ' '.join([index_to_words[prediction] for prediction in np.argmax(logits, 1)])\n",
    "\n",
    "print('`logits_to_text` function loaded.')"
   ]
  },
  {
   "cell_type": "markdown",
   "metadata": {},
   "source": [
    "### Model 1: RNN (IMPLEMENTATION)\n",
    "![RNN](images/rnn.png)\n",
    "A basic RNN model is a good baseline for sequence data.  In this model, you'll build a RNN that translates English to French."
   ]
  },
  {
   "cell_type": "code",
   "execution_count": 12,
   "metadata": {},
   "outputs": [
    {
     "name": "stdout",
     "output_type": "stream",
     "text": [
      "_________________________________________________________________\n",
      "Layer (type)                 Output Shape              Param #   \n",
      "=================================================================\n",
      "input_2 (InputLayer)         (None, 21, 1)             0         \n",
      "_________________________________________________________________\n",
      "gru_2 (GRU)                  (None, 21, 256)           198144    \n",
      "_________________________________________________________________\n",
      "time_distributed_2 (TimeDist (None, 21, 345)           88665     \n",
      "_________________________________________________________________\n",
      "activation_2 (Activation)    (None, 21, 345)           0         \n",
      "=================================================================\n",
      "Total params: 286,809\n",
      "Trainable params: 286,809\n",
      "Non-trainable params: 0\n",
      "_________________________________________________________________\n",
      "Train on 110288 samples, validate on 27573 samples\n",
      "Epoch 1/10\n",
      "110288/110288 [==============================] - 13s 117us/step - loss: 2.5517 - acc: 0.4833 - val_loss: 1.8570 - val_acc: 0.5631\n",
      "Epoch 2/10\n",
      "110288/110288 [==============================] - 11s 99us/step - loss: 1.6387 - acc: 0.5865 - val_loss: 1.5014 - val_acc: 0.6029\n",
      "Epoch 3/10\n",
      "110288/110288 [==============================] - 11s 99us/step - loss: 1.4278 - acc: 0.6163 - val_loss: 1.3622 - val_acc: 0.6242\n",
      "Epoch 4/10\n",
      "110288/110288 [==============================] - 11s 100us/step - loss: 1.3095 - acc: 0.6340 - val_loss: 1.2571 - val_acc: 0.6425\n",
      "Epoch 5/10\n",
      "110288/110288 [==============================] - 11s 100us/step - loss: 1.2175 - acc: 0.6485 - val_loss: 1.1780 - val_acc: 0.6562\n",
      "Epoch 6/10\n",
      "110288/110288 [==============================] - 11s 100us/step - loss: 1.1498 - acc: 0.6587 - val_loss: 1.1234 - val_acc: 0.6658\n",
      "Epoch 7/10\n",
      "110288/110288 [==============================] - 11s 99us/step - loss: 1.0997 - acc: 0.6666 - val_loss: 1.0766 - val_acc: 0.6690\n",
      "Epoch 8/10\n",
      "110288/110288 [==============================] - 11s 100us/step - loss: 1.0606 - acc: 0.6723 - val_loss: 1.0431 - val_acc: 0.6734\n",
      "Epoch 9/10\n",
      "110288/110288 [==============================] - 11s 100us/step - loss: 1.0264 - acc: 0.6770 - val_loss: 1.0115 - val_acc: 0.6786\n",
      "Epoch 10/10\n",
      "110288/110288 [==============================] - 11s 99us/step - loss: 0.9961 - acc: 0.6821 - val_loss: 0.9807 - val_acc: 0.6845\n",
      "new jersey est parfois calme en mois de il et il est en en <PAD> <PAD> <PAD> <PAD> <PAD> <PAD> <PAD>\n",
      "Label translation:\n",
      " new jersey est parfois calme pendant l' automne , et il est neigeux en avril .\n"
     ]
    }
   ],
   "source": [
    "def simple_model(input_shape, output_sequence_length, english_vocab_size, french_vocab_size):\n",
    "    \"\"\"\n",
    "    Build and train a basic RNN on x and y\n",
    "    :param input_shape: Tuple of input shape\n",
    "    :param output_sequence_length: Length of output sequence\n",
    "    :param english_vocab_size: Number of unique English words in the dataset\n",
    "    :param french_vocab_size: Number of unique French words in the dataset\n",
    "    :return: Keras model built, but not trained\n",
    "    \"\"\"\n",
    "    # TODO: Build the layers\n",
    "    rnn_units = 256\n",
    "    learning_rate = 1e-3\n",
    "    input_seq = Input(shape=input_shape[1:])\n",
    "    rnn = GRU(rnn_units, return_sequences=True)(input_seq)\n",
    "    logits = TimeDistributed(Dense(french_vocab_size))(rnn)\n",
    "    output = Activation('softmax')(logits)\n",
    "    model = Model(input_seq, output)\n",
    "    \n",
    "    model.compile(loss=sparse_categorical_crossentropy,\n",
    "                  optimizer=Adam(learning_rate),\n",
    "                  metrics=['accuracy'])\n",
    "    return model\n",
    "\n",
    "tests.test_simple_model(simple_model)\n",
    "\n",
    "# Reshaping the input to work with a basic RNN\n",
    "tmp_x = pad(preproc_english_sentences, max_french_sequence_length)\n",
    "tmp_x = tmp_x.reshape((-1, preproc_french_sentences.shape[-2], 1))\n",
    "\n",
    "REBUILD_FLAG = True\n",
    "model_path = os.path.join(MODELS_DIR, 'simple_model.h5')\n",
    "if REBUILD_FLAG or not os.path.exists(model_path):\n",
    "    #Build the model\n",
    "    simple_rnn_model = simple_model(\n",
    "        tmp_x.shape,\n",
    "        max_french_sequence_length,\n",
    "        english_vocab_size,\n",
    "        french_vocab_size)\n",
    "    #Print model summary\n",
    "    simple_rnn_model.summary()\n",
    "    # Train the neural network    \n",
    "    simple_rnn_model.fit(tmp_x, preproc_french_sentences, \n",
    "                         batch_size=1024, epochs=10, \n",
    "                         validation_split=0.2)\n",
    "    #Save the model\n",
    "    simple_rnn_model.save(model_path)\n",
    "else:\n",
    "    #Load the saved model\n",
    "    simple_rnn_model = load_model(model_path)\n",
    "    #Print model summary\n",
    "    simple_rnn_model.summary()\n",
    "\n",
    "# Print prediction(s)\n",
    "print(logits_to_text(simple_rnn_model.predict(tmp_x[:1])[0], \n",
    "                                            french_tokenizer))\n",
    "print('Label translation:\\n{}'.format(french_sentences[0]))"
   ]
  },
  {
   "cell_type": "markdown",
   "metadata": {},
   "source": [
    "### Model 1: RNN With Split Train and Test Datasets (Optional Enhancement)"
   ]
  },
  {
   "cell_type": "code",
   "execution_count": 13,
   "metadata": {},
   "outputs": [
    {
     "name": "stdout",
     "output_type": "stream",
     "text": [
      "Train on 111666 samples, validate on 12408 samples\n",
      "Epoch 1/10\n",
      "111666/111666 [==============================] - 11s 98us/step - loss: 2.5621 - acc: 0.4838 - val_loss: 1.8721 - val_acc: 0.5570\n",
      "Epoch 2/10\n",
      "111666/111666 [==============================] - 11s 95us/step - loss: 1.6490 - acc: 0.5834 - val_loss: 1.5189 - val_acc: 0.5996\n",
      "Epoch 3/10\n",
      "111666/111666 [==============================] - 11s 95us/step - loss: 1.4362 - acc: 0.6127 - val_loss: 1.3766 - val_acc: 0.6206\n",
      "Epoch 4/10\n",
      "111666/111666 [==============================] - 11s 95us/step - loss: 1.3164 - acc: 0.6317 - val_loss: 1.2783 - val_acc: 0.6357\n",
      "Epoch 5/10\n",
      "111666/111666 [==============================] - 11s 94us/step - loss: 1.2236 - acc: 0.6474 - val_loss: 1.2065 - val_acc: 0.6548\n",
      "Epoch 6/10\n",
      "111666/111666 [==============================] - 11s 95us/step - loss: 1.1569 - acc: 0.6593 - val_loss: 1.1409 - val_acc: 0.6596\n",
      "Epoch 7/10\n",
      "111666/111666 [==============================] - 11s 95us/step - loss: 1.1072 - acc: 0.6664 - val_loss: 1.1059 - val_acc: 0.6677\n",
      "Epoch 8/10\n",
      "111666/111666 [==============================] - 11s 95us/step - loss: 1.0671 - acc: 0.6724 - val_loss: 1.0558 - val_acc: 0.6744\n",
      "Epoch 9/10\n",
      "111666/111666 [==============================] - 11s 95us/step - loss: 1.0316 - acc: 0.6774 - val_loss: 1.0323 - val_acc: 0.6813\n",
      "Epoch 10/10\n",
      "111666/111666 [==============================] - 11s 95us/step - loss: 1.0000 - acc: 0.6842 - val_loss: 1.0036 - val_acc: 0.6835\n",
      "la est est parfois en juin mais mais il est est en en en <PAD> <PAD> <PAD> <PAD> <PAD> <PAD> <PAD>\n",
      "Label translation:\n",
      "californie est parfois merveilleux au cours de l' automne , mais il est généralement sec en juin .\n"
     ]
    }
   ],
   "source": [
    "# Reshape the input\n",
    "tmp_x = pad(preproc_english_sentences_train, max_french_sequence_length)\n",
    "tmp_x = tmp_x.reshape((-1, preproc_french_sentences.shape[-2], 1))\n",
    "\n",
    "REBUILD_FLAG = True\n",
    "model_path = os.path.join(MODELS_DIR, 'simple_model_enh.h5')\n",
    "if REBUILD_FLAG or not os.path.exists(model_path):\n",
    "    #Build the model\n",
    "    simple_rnn_model_enh = simple_model(\n",
    "        tmp_x.shape,\n",
    "        max_french_sequence_length,\n",
    "        english_vocab_size,\n",
    "        french_vocab_size)\n",
    "    # Train the neural network    \n",
    "    simple_rnn_model_enh.fit(tmp_x, preproc_french_sentences_train, \n",
    "                         batch_size=1024, epochs=10, \n",
    "                         validation_split=0.1)\n",
    "    #Save the model\n",
    "    simple_rnn_model_enh.save(model_path)\n",
    "else:\n",
    "    #Load the saved model\n",
    "    simple_rnn_model_enh = load_model(model_path)\n",
    "\n",
    "# Print prediction(s)\n",
    "print(logits_to_text(simple_rnn_model_enh.predict(tmp_x[:1])[0], \n",
    "                     french_tokenizer))\n",
    "print('Label translation:\\n{}'.format(french_sentences_train[0]))"
   ]
  },
  {
   "cell_type": "markdown",
   "metadata": {},
   "source": [
    "### Evaluate RNN Model With Test Dataset (Optional Enhancement)"
   ]
  },
  {
   "cell_type": "code",
   "execution_count": 14,
   "metadata": {},
   "outputs": [
    {
     "name": "stdout",
     "output_type": "stream",
     "text": [
      "RNN model accuracy with test dataset: 68.38%\n"
     ]
    }
   ],
   "source": [
    "#Evaluate the model with the test dataset\n",
    "\n",
    "# Reshape the test data \n",
    "test_x = pad(preproc_english_sentences_test, max_french_sequence_length)\n",
    "test_x = test_x.reshape((-1, preproc_french_sentences.shape[-2], 1))\n",
    "\n",
    "# Evaluate the model on the unseen test data\n",
    "score, accuracy = simple_rnn_model_enh.evaluate(test_x, \n",
    "                            preproc_french_sentences_test, verbose=0)\n",
    "\n",
    "print(\"RNN model accuracy with test dataset: {0:.2f}%\".format(accuracy*100))"
   ]
  },
  {
   "cell_type": "markdown",
   "metadata": {},
   "source": [
    "### Model 2: Embedding (IMPLEMENTATION)\n",
    "![RNN](images/embedding.png)\n",
    "You've turned the words into ids, but there's a better representation of a word.  This is called word embeddings.  An embedding is a vector representation of the word that is close to similar words in n-dimensional space, where the n represents the size of the embedding vectors.\n",
    "\n",
    "In this model, you'll create a RNN model using embedding."
   ]
  },
  {
   "cell_type": "code",
   "execution_count": 15,
   "metadata": {},
   "outputs": [
    {
     "name": "stdout",
     "output_type": "stream",
     "text": [
      "_________________________________________________________________\n",
      "Layer (type)                 Output Shape              Param #   \n",
      "=================================================================\n",
      "input_5 (InputLayer)         (None, 21)                0         \n",
      "_________________________________________________________________\n",
      "embedding_2 (Embedding)      (None, 21, 256)           51200     \n",
      "_________________________________________________________________\n",
      "gru_5 (GRU)                  (None, 21, 256)           393984    \n",
      "_________________________________________________________________\n",
      "time_distributed_5 (TimeDist (None, 21, 345)           88665     \n",
      "_________________________________________________________________\n",
      "activation_5 (Activation)    (None, 21, 345)           0         \n",
      "=================================================================\n",
      "Total params: 533,849\n",
      "Trainable params: 533,849\n",
      "Non-trainable params: 0\n",
      "_________________________________________________________________\n",
      "Train on 110288 samples, validate on 27573 samples\n",
      "Epoch 1/10\n",
      "110288/110288 [==============================] - 15s 132us/step - loss: 3.0170 - acc: 0.4450 - val_loss: 2.1937 - val_acc: 0.5371\n",
      "Epoch 2/10\n",
      "110288/110288 [==============================] - 14s 127us/step - loss: 1.5769 - acc: 0.6349 - val_loss: 1.1726 - val_acc: 0.7209\n",
      "Epoch 3/10\n",
      "110288/110288 [==============================] - 14s 127us/step - loss: 0.9440 - acc: 0.7658 - val_loss: 0.7499 - val_acc: 0.7990\n",
      "Epoch 4/10\n",
      "110288/110288 [==============================] - 14s 127us/step - loss: 0.6406 - acc: 0.8201 - val_loss: 0.5477 - val_acc: 0.8387\n",
      "Epoch 5/10\n",
      "110288/110288 [==============================] - 14s 127us/step - loss: 0.4960 - acc: 0.8529 - val_loss: 0.4414 - val_acc: 0.8684\n",
      "Epoch 6/10\n",
      "110288/110288 [==============================] - 14s 127us/step - loss: 0.4069 - acc: 0.8778 - val_loss: 0.3762 - val_acc: 0.8856\n",
      "Epoch 7/10\n",
      "110288/110288 [==============================] - 14s 127us/step - loss: 0.3533 - acc: 0.8911 - val_loss: 0.3375 - val_acc: 0.8948\n",
      "Epoch 8/10\n",
      "110288/110288 [==============================] - 14s 127us/step - loss: 0.3167 - acc: 0.9010 - val_loss: 0.3016 - val_acc: 0.9053\n",
      "Epoch 9/10\n",
      "110288/110288 [==============================] - 14s 127us/step - loss: 0.2894 - acc: 0.9087 - val_loss: 0.2813 - val_acc: 0.9112\n",
      "Epoch 10/10\n",
      "110288/110288 [==============================] - 14s 126us/step - loss: 0.2683 - acc: 0.9144 - val_loss: 0.2664 - val_acc: 0.9152\n",
      "new jersey est parfois calme en l' automne et il est neigeux en avril <PAD> <PAD> <PAD> <PAD> <PAD> <PAD> <PAD>\n",
      "Label translation:\n",
      "new jersey est parfois calme pendant l' automne , et il est neigeux en avril .\n"
     ]
    }
   ],
   "source": [
    "def embed_model(input_shape, output_sequence_length, english_vocab_size, french_vocab_size):\n",
    "    \"\"\"\n",
    "    Build and train a RNN model using word embedding on x and y\n",
    "    :param input_shape: Tuple of input shape\n",
    "    :param output_sequence_length: Length of output sequence\n",
    "    :param english_vocab_size: Number of unique English words in the dataset\n",
    "    :param french_vocab_size: Number of unique French words in the dataset\n",
    "    :return: Keras model built, but not trained\n",
    "    \"\"\"\n",
    "    # TODO: Implement\n",
    "    word2vec_size = 256\n",
    "    rnn_units = 256\n",
    "    learning_rate = 1e-3\n",
    "    input_seq = Input(shape=input_shape[1:])\n",
    "    embed = Embedding(english_vocab_size, word2vec_size, \n",
    "                      input_length=input_shape[1])(input_seq)\n",
    "    rnn = GRU(rnn_units, return_sequences=True)(embed)\n",
    "    logits = TimeDistributed(Dense(french_vocab_size))(rnn)\n",
    "    output = Activation('softmax')(logits)\n",
    "    model = Model(input_seq, output)\n",
    "    \n",
    "    model.compile(loss=sparse_categorical_crossentropy,\n",
    "                  optimizer=Adam(learning_rate),\n",
    "                  metrics=['accuracy'])\n",
    "    return model\n",
    "\n",
    "tests.test_embed_model(embed_model)\n",
    "\n",
    "# Make input to have same time steps as output by padding\n",
    "tmp_x = pad(preproc_english_sentences, max_french_sequence_length)\n",
    "#tmp_x = tmp_x.reshape((-1, preproc_french_sentences.shape[-2], 1))\n",
    "\n",
    "REBUILD_FLAG = True\n",
    "model_path = os.path.join(MODELS_DIR, 'embedding_model.h5')\n",
    "if REBUILD_FLAG or not os.path.exists(model_path):\n",
    "    #Build the model\n",
    "    embedding_model = embed_model(\n",
    "        tmp_x.shape,\n",
    "        max_french_sequence_length,\n",
    "        english_vocab_size,\n",
    "        french_vocab_size)\n",
    "    #Print model summary\n",
    "    embedding_model.summary()\n",
    "    # Train the neural network    \n",
    "    embedding_model.fit(tmp_x, preproc_french_sentences, batch_size=1024, epochs=10, \n",
    "                        validation_split=0.2)\n",
    "    #Save the model\n",
    "    embedding_model.save(model_path)\n",
    "else:\n",
    "    #Load the saved model\n",
    "    embedding_model = load_model(model_path)\n",
    "    #Print model summary\n",
    "    embedding_model.summary()\n",
    "\n",
    "# Print prediction(s)\n",
    "print(logits_to_text(embedding_model.predict(tmp_x[:1])[0], \n",
    "                                            french_tokenizer))\n",
    "print('Label translation:\\n{}'.format(french_sentences[0]))"
   ]
  },
  {
   "cell_type": "markdown",
   "metadata": {},
   "source": [
    "### Model 2: Embedding With Split Train and Test Datasets (Optional Enhancement)"
   ]
  },
  {
   "cell_type": "code",
   "execution_count": 16,
   "metadata": {},
   "outputs": [
    {
     "name": "stdout",
     "output_type": "stream",
     "text": [
      "Train on 111666 samples, validate on 12408 samples\n",
      "Epoch 1/10\n",
      "111666/111666 [==============================] - 14s 126us/step - loss: 3.0219 - acc: 0.4519 - val_loss: 2.1049 - val_acc: 0.5496\n",
      "Epoch 2/10\n",
      "111666/111666 [==============================] - 14s 121us/step - loss: 1.5222 - acc: 0.6414 - val_loss: 1.1354 - val_acc: 0.7267\n",
      "Epoch 3/10\n",
      "111666/111666 [==============================] - 14s 121us/step - loss: 0.9126 - acc: 0.7701 - val_loss: 0.7574 - val_acc: 0.7941\n",
      "Epoch 4/10\n",
      "111666/111666 [==============================] - 14s 121us/step - loss: 0.6397 - acc: 0.8187 - val_loss: 0.5648 - val_acc: 0.8351\n",
      "Epoch 5/10\n",
      "111666/111666 [==============================] - 14s 121us/step - loss: 0.4986 - acc: 0.8523 - val_loss: 0.4540 - val_acc: 0.8646\n",
      "Epoch 6/10\n",
      "111666/111666 [==============================] - 14s 121us/step - loss: 0.4129 - acc: 0.8755 - val_loss: 0.3880 - val_acc: 0.8818\n",
      "Epoch 7/10\n",
      "111666/111666 [==============================] - 14s 121us/step - loss: 0.3560 - acc: 0.8907 - val_loss: 0.3452 - val_acc: 0.8931\n",
      "Epoch 8/10\n",
      "111666/111666 [==============================] - 14s 121us/step - loss: 0.3164 - acc: 0.9010 - val_loss: 0.3347 - val_acc: 0.8951\n",
      "Epoch 9/10\n",
      "111666/111666 [==============================] - 14s 121us/step - loss: 0.2906 - acc: 0.9080 - val_loss: 0.2893 - val_acc: 0.9075\n",
      "Epoch 10/10\n",
      "111666/111666 [==============================] - 14s 121us/step - loss: 0.2674 - acc: 0.9145 - val_loss: 0.2840 - val_acc: 0.9093\n",
      "californie est parfois merveilleux en cours de l' automne mais il est généralement sec en juin <PAD> <PAD> <PAD> <PAD> <PAD>\n",
      "Label translation:\n",
      "californie est parfois merveilleux au cours de l' automne , mais il est généralement sec en juin .\n"
     ]
    }
   ],
   "source": [
    "# Reshape the input\n",
    "tmp_x = pad(preproc_english_sentences_train, max_french_sequence_length)\n",
    "#tmp_x = tmp_x.reshape((-1, preproc_french_sentences.shape[-2], 1))\n",
    "\n",
    "REBUILD_FLAG = True\n",
    "model_path = os.path.join(MODELS_DIR, 'embedding_model_enh.h5')\n",
    "if REBUILD_FLAG or not os.path.exists(model_path):\n",
    "    #Build the model\n",
    "    embedding_model_enh = embed_model(\n",
    "        tmp_x.shape,\n",
    "        max_french_sequence_length,\n",
    "        english_vocab_size,\n",
    "        french_vocab_size)\n",
    "    # Train the neural network    \n",
    "    embedding_model_enh.fit(tmp_x, preproc_french_sentences_train, \n",
    "                         batch_size=1024, epochs=10, \n",
    "                         validation_split=0.1)\n",
    "    #Save the model\n",
    "    embedding_model_enh.save(model_path)\n",
    "else:\n",
    "    #Load the saved model\n",
    "    embedding_model_enh = load_model(model_path)\n",
    "\n",
    "# Print prediction(s)\n",
    "print(logits_to_text(embedding_model_enh.predict(tmp_x[:1])[0], \n",
    "                     french_tokenizer))\n",
    "print('Label translation:\\n{}'.format(french_sentences_train[0]))"
   ]
  },
  {
   "cell_type": "markdown",
   "metadata": {},
   "source": [
    "### Evaluate Embedding Model With Test Dataset (Optional Enhancement)"
   ]
  },
  {
   "cell_type": "code",
   "execution_count": 17,
   "metadata": {},
   "outputs": [
    {
     "name": "stdout",
     "output_type": "stream",
     "text": [
      "Embedding model accuracy with test dataset: 90.82%\n"
     ]
    }
   ],
   "source": [
    "#Evaluate the model with the test dataset\n",
    "\n",
    "# Reshape the test data \n",
    "test_x = pad(preproc_english_sentences_test, max_french_sequence_length)\n",
    "#test_x = test_x.reshape((-1, preproc_french_sentences.shape[-2], 1))\n",
    "\n",
    "# Evaluate the model on the unseen test data\n",
    "score, accuracy = embedding_model_enh.evaluate(test_x, \n",
    "                            preproc_french_sentences_test, verbose=0)\n",
    "\n",
    "print(\"Embedding model accuracy with test dataset: {0:.2f}%\".format(accuracy*100))"
   ]
  },
  {
   "cell_type": "markdown",
   "metadata": {},
   "source": [
    "### Model 3: Bidirectional RNNs (IMPLEMENTATION)\n",
    "![RNN](images/bidirectional.png)\n",
    "One restriction of a RNN is that it can't see the future input, only the past.  This is where bidirectional recurrent neural networks come in.  They are able to see the future data."
   ]
  },
  {
   "cell_type": "code",
   "execution_count": 18,
   "metadata": {},
   "outputs": [
    {
     "name": "stdout",
     "output_type": "stream",
     "text": [
      "_________________________________________________________________\n",
      "Layer (type)                 Output Shape              Param #   \n",
      "=================================================================\n",
      "input_8 (InputLayer)         (None, 21, 1)             0         \n",
      "_________________________________________________________________\n",
      "bidirectional_2 (Bidirection (None, 21, 512)           396288    \n",
      "_________________________________________________________________\n",
      "time_distributed_8 (TimeDist (None, 21, 345)           176985    \n",
      "_________________________________________________________________\n",
      "activation_8 (Activation)    (None, 21, 345)           0         \n",
      "=================================================================\n",
      "Total params: 573,273\n",
      "Trainable params: 573,273\n",
      "Non-trainable params: 0\n",
      "_________________________________________________________________\n",
      "Train on 110288 samples, validate on 27573 samples\n",
      "Epoch 1/10\n",
      "110288/110288 [==============================] - 19s 172us/step - loss: 2.1453 - acc: 0.5487 - val_loss: 1.4945 - val_acc: 0.6122\n",
      "Epoch 2/10\n",
      "110288/110288 [==============================] - 18s 165us/step - loss: 1.3741 - acc: 0.6262 - val_loss: 1.2790 - val_acc: 0.6396\n",
      "Epoch 3/10\n",
      "110288/110288 [==============================] - 18s 166us/step - loss: 1.2188 - acc: 0.6519 - val_loss: 1.1647 - val_acc: 0.6613\n",
      "Epoch 4/10\n",
      "110288/110288 [==============================] - 18s 166us/step - loss: 1.1218 - acc: 0.6718 - val_loss: 1.0800 - val_acc: 0.6800\n",
      "Epoch 5/10\n",
      "110288/110288 [==============================] - 18s 166us/step - loss: 1.0481 - acc: 0.6856 - val_loss: 1.0159 - val_acc: 0.6889\n",
      "Epoch 6/10\n",
      "110288/110288 [==============================] - 18s 165us/step - loss: 0.9936 - acc: 0.6943 - val_loss: 0.9681 - val_acc: 0.6962\n",
      "Epoch 7/10\n",
      "110288/110288 [==============================] - 18s 165us/step - loss: 0.9474 - acc: 0.7022 - val_loss: 0.9283 - val_acc: 0.7035\n",
      "Epoch 8/10\n",
      "110288/110288 [==============================] - 18s 166us/step - loss: 0.9092 - acc: 0.7081 - val_loss: 0.8941 - val_acc: 0.7108\n",
      "Epoch 9/10\n",
      "110288/110288 [==============================] - 18s 166us/step - loss: 0.8752 - acc: 0.7141 - val_loss: 0.8622 - val_acc: 0.7164\n",
      "Epoch 10/10\n",
      "110288/110288 [==============================] - 18s 165us/step - loss: 0.8451 - acc: 0.7198 - val_loss: 0.8313 - val_acc: 0.7234\n",
      "new jersey est parfois calme au mois de il et il est en en <PAD> <PAD> <PAD> <PAD> <PAD> <PAD> <PAD>\n",
      "Label translation:\n",
      "new jersey est parfois calme pendant l' automne , et il est neigeux en avril .\n"
     ]
    }
   ],
   "source": [
    "def bd_model(input_shape, output_sequence_length, english_vocab_size, french_vocab_size):\n",
    "    \"\"\"\n",
    "    Build and train a bidirectional RNN model on x and y\n",
    "    :param input_shape: Tuple of input shape\n",
    "    :param output_sequence_length: Length of output sequence\n",
    "    :param english_vocab_size: Number of unique English words in the dataset\n",
    "    :param french_vocab_size: Number of unique French words in the dataset\n",
    "    :return: Keras model built, but not trained\n",
    "    \"\"\"\n",
    "    # TODO: Implement\n",
    "    rnn_units = 256\n",
    "    learning_rate = 1e-3\n",
    "    input_seq = Input(shape=input_shape[1:])\n",
    "    rnn = Bidirectional(GRU(rnn_units, return_sequences=True))(input_seq)\n",
    "    logits = TimeDistributed(Dense(french_vocab_size))(rnn)\n",
    "    output = Activation('softmax')(logits)\n",
    "    model = Model(input_seq, output)\n",
    "    \n",
    "    model.compile(loss=sparse_categorical_crossentropy,\n",
    "                  optimizer=Adam(learning_rate),\n",
    "                  metrics=['accuracy'])\n",
    "    return model\n",
    "\n",
    "tests.test_bd_model(bd_model)\n",
    "\n",
    "# Make input to have same time steps as output by padding\n",
    "tmp_x = pad(preproc_english_sentences, max_french_sequence_length)\n",
    "tmp_x = tmp_x.reshape((-1, preproc_french_sentences.shape[-2], 1))\n",
    "\n",
    "REBUILD_FLAG = True\n",
    "model_path = os.path.join(MODELS_DIR, 'bidirectional_model.h5')\n",
    "if REBUILD_FLAG or not os.path.exists(model_path):\n",
    "    #Build the model\n",
    "    bidirectional_model = bd_model(\n",
    "        tmp_x.shape,\n",
    "        max_french_sequence_length,\n",
    "        english_vocab_size,\n",
    "        french_vocab_size)\n",
    "    #Print model summary\n",
    "    bidirectional_model.summary()\n",
    "    # Train the neural network    \n",
    "    bidirectional_model.fit(tmp_x, preproc_french_sentences, batch_size=1024, epochs=10, \n",
    "                            validation_split=0.2)\n",
    "    #Save the model\n",
    "    bidirectional_model.save(model_path)\n",
    "else:\n",
    "    #Load the saved model\n",
    "    bidirectional_model = load_model(model_path)\n",
    "    #Print model summary\n",
    "    bidirectional_model.summary()\n",
    "\n",
    "# Print prediction(s)\n",
    "print(logits_to_text(bidirectional_model.predict(tmp_x[:1])[0], \n",
    "                                            french_tokenizer))\n",
    "print('Label translation:\\n{}'.format(french_sentences[0]))"
   ]
  },
  {
   "cell_type": "markdown",
   "metadata": {},
   "source": [
    "### Model 3: Bidirectional RNNs With Split Train and Test Datasets (Optional Enhancement)"
   ]
  },
  {
   "cell_type": "code",
   "execution_count": 19,
   "metadata": {},
   "outputs": [
    {
     "name": "stdout",
     "output_type": "stream",
     "text": [
      "Train on 111666 samples, validate on 12408 samples\n",
      "Epoch 1/10\n",
      "111666/111666 [==============================] - 19s 167us/step - loss: 2.1302 - acc: 0.5490 - val_loss: 1.4942 - val_acc: 0.6095\n",
      "Epoch 2/10\n",
      "111666/111666 [==============================] - 18s 159us/step - loss: 1.3664 - acc: 0.6246 - val_loss: 1.2773 - val_acc: 0.6378\n",
      "Epoch 3/10\n",
      "111666/111666 [==============================] - 18s 159us/step - loss: 1.2143 - acc: 0.6517 - val_loss: 1.1702 - val_acc: 0.6660\n",
      "Epoch 4/10\n",
      "111666/111666 [==============================] - 18s 159us/step - loss: 1.1230 - acc: 0.6729 - val_loss: 1.0944 - val_acc: 0.6791\n",
      "Epoch 5/10\n",
      "111666/111666 [==============================] - 18s 158us/step - loss: 1.0530 - acc: 0.6858 - val_loss: 1.0329 - val_acc: 0.6889\n",
      "Epoch 6/10\n",
      "111666/111666 [==============================] - 18s 158us/step - loss: 0.9961 - acc: 0.6944 - val_loss: 0.9808 - val_acc: 0.6954\n",
      "Epoch 7/10\n",
      "111666/111666 [==============================] - 18s 158us/step - loss: 0.9501 - acc: 0.7019 - val_loss: 0.9472 - val_acc: 0.6994\n",
      "Epoch 8/10\n",
      "111666/111666 [==============================] - 18s 159us/step - loss: 0.9126 - acc: 0.7077 - val_loss: 0.9075 - val_acc: 0.7065\n",
      "Epoch 9/10\n",
      "111666/111666 [==============================] - 18s 158us/step - loss: 0.8890 - acc: 0.7108 - val_loss: 0.8937 - val_acc: 0.7088\n",
      "Epoch 10/10\n",
      "111666/111666 [==============================] - 18s 158us/step - loss: 0.8525 - acc: 0.7185 - val_loss: 0.8489 - val_acc: 0.7215\n",
      "californie est est parfois froid juin mais mais il est est occupé en juin <PAD> <PAD> <PAD> <PAD> <PAD> <PAD> <PAD>\n",
      "Label translation:\n",
      "californie est parfois merveilleux au cours de l' automne , mais il est généralement sec en juin .\n"
     ]
    }
   ],
   "source": [
    "# Reshape the input\n",
    "tmp_x = pad(preproc_english_sentences_train, max_french_sequence_length)\n",
    "tmp_x = tmp_x.reshape((-1, preproc_french_sentences.shape[-2], 1))\n",
    "\n",
    "REBUILD_FLAG = True\n",
    "model_path = os.path.join(MODELS_DIR, 'bidirectional_model_enh.h5')\n",
    "if REBUILD_FLAG or not os.path.exists(model_path):\n",
    "    #Build the model\n",
    "    bidirectional_model_enh = bd_model(\n",
    "        tmp_x.shape,\n",
    "        max_french_sequence_length,\n",
    "        english_vocab_size,\n",
    "        french_vocab_size)\n",
    "    # Train the neural network    \n",
    "    bidirectional_model_enh.fit(tmp_x, preproc_french_sentences_train, \n",
    "                         batch_size=1024, epochs=10, \n",
    "                         validation_split=0.1)\n",
    "    #Save the model\n",
    "    bidirectional_model_enh.save(model_path)\n",
    "else:\n",
    "    #Load the saved model\n",
    "    bidirectional_model_enh = load_model(model_path)\n",
    "\n",
    "# Print prediction(s)\n",
    "print(logits_to_text(bidirectional_model_enh.predict(tmp_x[:1])[0], \n",
    "                     french_tokenizer))\n",
    "print('Label translation:\\n{}'.format(french_sentences_train[0]))"
   ]
  },
  {
   "cell_type": "markdown",
   "metadata": {},
   "source": [
    "### Evaluate Bidirectional Model With Test Dataset (Optional Enhancement)"
   ]
  },
  {
   "cell_type": "code",
   "execution_count": 20,
   "metadata": {},
   "outputs": [
    {
     "name": "stdout",
     "output_type": "stream",
     "text": [
      "Bidirectional RNNs model accuracy with test dataset: 72.23%\n"
     ]
    }
   ],
   "source": [
    "#Evaluate the model with the test dataset\n",
    "\n",
    "# Reshape the test data \n",
    "test_x = pad(preproc_english_sentences_test, max_french_sequence_length)\n",
    "test_x = test_x.reshape((-1, preproc_french_sentences.shape[-2], 1))\n",
    "\n",
    "# Evaluate the model on the unseen test data\n",
    "score, accuracy = bidirectional_model_enh.evaluate(test_x, \n",
    "                            preproc_french_sentences_test, verbose=0)\n",
    "\n",
    "print(\"Bidirectional RNNs model accuracy with test dataset: {0:.2f}%\".format(accuracy*100))"
   ]
  },
  {
   "cell_type": "markdown",
   "metadata": {},
   "source": [
    "### Model 4: Encoder-Decoder (OPTIONAL)\n",
    "Time to look at encoder-decoder models.  This model is made up of an encoder and decoder. The encoder creates a matrix representation of the sentence.  The decoder takes this matrix as input and predicts the translation as output.\n",
    "\n",
    "Create an encoder-decoder model in the cell below."
   ]
  },
  {
   "cell_type": "code",
   "execution_count": 22,
   "metadata": {},
   "outputs": [
    {
     "name": "stdout",
     "output_type": "stream",
     "text": [
      "_________________________________________________________________\n",
      "Layer (type)                 Output Shape              Param #   \n",
      "=================================================================\n",
      "input_11 (InputLayer)        (None, 15)                0         \n",
      "_________________________________________________________________\n",
      "embedding_5 (Embedding)      (None, 15, 256)           51200     \n",
      "_________________________________________________________________\n",
      "lstm_2 (LSTM)                (None, 256)               525312    \n",
      "_________________________________________________________________\n",
      "repeat_vector_1 (RepeatVecto (None, 21, 256)           0         \n",
      "_________________________________________________________________\n",
      "lstm_3 (LSTM)                (None, 21, 256)           525312    \n",
      "_________________________________________________________________\n",
      "time_distributed_10 (TimeDis (None, 21, 345)           88665     \n",
      "_________________________________________________________________\n",
      "activation_10 (Activation)   (None, 21, 345)           0         \n",
      "=================================================================\n",
      "Total params: 1,190,489\n",
      "Trainable params: 1,190,489\n",
      "Non-trainable params: 0\n",
      "_________________________________________________________________\n",
      "Train on 110288 samples, validate on 27573 samples\n",
      "Epoch 1/10\n",
      "110288/110288 [==============================] - 26s 236us/step - loss: 2.9654 - acc: 0.4429 - val_loss: 2.2796 - val_acc: 0.4974\n",
      "Epoch 2/10\n",
      "110288/110288 [==============================] - 25s 227us/step - loss: 2.0172 - acc: 0.5295 - val_loss: 1.7625 - val_acc: 0.5611\n",
      "Epoch 3/10\n",
      "110288/110288 [==============================] - 25s 227us/step - loss: 1.6257 - acc: 0.5839 - val_loss: 1.5118 - val_acc: 0.6050\n",
      "Epoch 4/10\n",
      "110288/110288 [==============================] - 25s 227us/step - loss: 1.4095 - acc: 0.6264 - val_loss: 1.2993 - val_acc: 0.6481\n",
      "Epoch 5/10\n",
      "110288/110288 [==============================] - 25s 227us/step - loss: 1.2291 - acc: 0.6628 - val_loss: 1.1444 - val_acc: 0.6821\n",
      "Epoch 6/10\n",
      "110288/110288 [==============================] - 25s 227us/step - loss: 1.0862 - acc: 0.6969 - val_loss: 1.0285 - val_acc: 0.7078\n",
      "Epoch 7/10\n",
      "110288/110288 [==============================] - 25s 227us/step - loss: 0.9854 - acc: 0.7157 - val_loss: 0.9467 - val_acc: 0.7269\n",
      "Epoch 8/10\n",
      "110288/110288 [==============================] - 25s 227us/step - loss: 0.8899 - acc: 0.7398 - val_loss: 0.8533 - val_acc: 0.7502\n",
      "Epoch 9/10\n",
      "110288/110288 [==============================] - 25s 227us/step - loss: 0.8056 - acc: 0.7633 - val_loss: 0.8011 - val_acc: 0.7636\n",
      "Epoch 10/10\n",
      "110288/110288 [==============================] - 25s 226us/step - loss: 0.7308 - acc: 0.7854 - val_loss: 0.6965 - val_acc: 0.7957\n",
      "new jersey est jamais agréable au l' et l' automne il est en <PAD> <PAD> <PAD> <PAD> <PAD> <PAD> <PAD> <PAD>\n",
      "Label translation:\n",
      "new jersey est parfois calme pendant l' automne , et il est neigeux en avril .\n"
     ]
    }
   ],
   "source": [
    "def encdec_model(input_shape, output_sequence_length, english_vocab_size, french_vocab_size):\n",
    "    \"\"\"\n",
    "    Build and train an encoder-decoder model on x and y\n",
    "    :param input_shape: Tuple of input shape\n",
    "    :param output_sequence_length: Length of output sequence\n",
    "    :param english_vocab_size: Number of unique English words in the dataset\n",
    "    :param french_vocab_size: Number of unique French words in the dataset\n",
    "    :return: Keras model built, but not trained\n",
    "    \"\"\"\n",
    "    # OPTIONAL: Implement\n",
    "    from keras.layers import LSTM\n",
    "    word2vec_size = 256\n",
    "    rnn_units = 256\n",
    "    learning_rate = 1e-3\n",
    "    \n",
    "    #encoder\n",
    "    input_seq = Input(shape=input_shape[1:])\n",
    "    embed = Embedding(english_vocab_size, word2vec_size, input_length=input_shape[1])(input_seq)\n",
    "    enc_rnn = LSTM(rnn_units)(embed)\n",
    "    enc_rvec = RepeatVector(output_sequence_length)(enc_rnn)\n",
    "    #decoder\n",
    "    dec_rnn = LSTM(rnn_units, return_sequences=True)(enc_rvec)\n",
    "    dec_logits = TimeDistributed(Dense(french_vocab_size))(dec_rnn)\n",
    "    dec_output = Activation('softmax')(dec_logits)\n",
    "    #model\n",
    "    model = Model(input_seq, dec_output)\n",
    "\n",
    "    model.compile(loss=sparse_categorical_crossentropy,\n",
    "                  optimizer=Adam(learning_rate),\n",
    "                  metrics=['accuracy'])\n",
    "    return model    \n",
    "\n",
    "# Commenting out the test as it results in error \"Input 0 is \n",
    "#   incompatible with layer lstm_1: expected ndim=3, found ndim=4\". \n",
    "#   The model works correctly as intended with different time steps \n",
    "#   for input and output even without this test.\n",
    "\n",
    "#tests.test_encdec_model(encdec_model)\n",
    "\n",
    "# Reshape the input\n",
    "tmp_x = preproc_english_sentences\n",
    "#tmp_x = tmp_x.reshape((*preproc_english_sentences.shape, 1))\n",
    "\n",
    "# OPTIONAL: Train and Print prediction(s)\n",
    "REBUILD_FLAG = True\n",
    "model_path = os.path.join(MODELS_DIR, 'bidirectional_model.h5')\n",
    "if REBUILD_FLAG or not os.path.exists(model_path):\n",
    "    #Build the model\n",
    "    encoder_decoder = encdec_model(\n",
    "        tmp_x.shape,\n",
    "        max_french_sequence_length,\n",
    "        english_vocab_size,\n",
    "        french_vocab_size)\n",
    "    #Print model summary\n",
    "    encoder_decoder.summary()\n",
    "    # Train the neural network    \n",
    "    encoder_decoder.fit(tmp_x, preproc_french_sentences, batch_size=1024, epochs=10, validation_split=0.2)\n",
    "    #Save the model\n",
    "    encoder_decoder.save(model_path)\n",
    "else:\n",
    "    #Load the saved model\n",
    "    encoder_decoder = load_model(model_path)\n",
    "    #Print model summary\n",
    "    encoder_decoder.summary()\n",
    "\n",
    "# Print prediction(s)\n",
    "print(logits_to_text(encoder_decoder.predict(tmp_x[:1])[0], \n",
    "                                            french_tokenizer))\n",
    "print('Label translation:\\n{}'.format(french_sentences[0]))"
   ]
  },
  {
   "cell_type": "markdown",
   "metadata": {},
   "source": [
    "### Model 4: Encoder-Decoder With Split Train and Test Datasets (Optional Enhancement)"
   ]
  },
  {
   "cell_type": "code",
   "execution_count": 23,
   "metadata": {},
   "outputs": [
    {
     "name": "stdout",
     "output_type": "stream",
     "text": [
      "Train on 111666 samples, validate on 12408 samples\n",
      "Epoch 1/10\n",
      "111666/111666 [==============================] - 25s 227us/step - loss: 2.9859 - acc: 0.4400 - val_loss: 2.2969 - val_acc: 0.4850\n",
      "Epoch 2/10\n",
      "111666/111666 [==============================] - 24s 217us/step - loss: 2.0265 - acc: 0.5345 - val_loss: 1.7764 - val_acc: 0.5558\n",
      "Epoch 3/10\n",
      "111666/111666 [==============================] - 24s 217us/step - loss: 1.6149 - acc: 0.5827 - val_loss: 1.5329 - val_acc: 0.5950\n",
      "Epoch 4/10\n",
      "111666/111666 [==============================] - 24s 218us/step - loss: 1.3945 - acc: 0.6248 - val_loss: 1.3310 - val_acc: 0.6393\n",
      "Epoch 5/10\n",
      "111666/111666 [==============================] - 24s 217us/step - loss: 1.2225 - acc: 0.6629 - val_loss: 1.1594 - val_acc: 0.6757\n",
      "Epoch 6/10\n",
      "111666/111666 [==============================] - 24s 217us/step - loss: 1.0797 - acc: 0.6968 - val_loss: 1.0523 - val_acc: 0.7051\n",
      "Epoch 7/10\n",
      "111666/111666 [==============================] - 24s 218us/step - loss: 0.9808 - acc: 0.7174 - val_loss: 0.9656 - val_acc: 0.7185\n",
      "Epoch 8/10\n",
      "111666/111666 [==============================] - 24s 217us/step - loss: 0.8898 - acc: 0.7391 - val_loss: 0.8626 - val_acc: 0.7468\n",
      "Epoch 9/10\n",
      "111666/111666 [==============================] - 24s 217us/step - loss: 0.8075 - acc: 0.7614 - val_loss: 0.7825 - val_acc: 0.7698\n",
      "Epoch 10/10\n",
      "111666/111666 [==============================] - 24s 217us/step - loss: 0.7363 - acc: 0.7832 - val_loss: 0.7303 - val_acc: 0.7828\n",
      "californie est généralement agréable pendant l' mais mais est est jamais en en <PAD> <PAD> <PAD> <PAD> <PAD> <PAD> <PAD> <PAD>\n",
      "Label translation:\n",
      "californie est parfois merveilleux au cours de l' automne , mais il est généralement sec en juin .\n"
     ]
    }
   ],
   "source": [
    "# Reshape the input\n",
    "tmp_x = preproc_english_sentences_train\n",
    "#tmp_x = tmp_x.reshape((*preproc_english_sentences_train.shape, 1))\n",
    "\n",
    "REBUILD_FLAG = True\n",
    "model_path = os.path.join(MODELS_DIR, 'encdec_model_enh.h5')\n",
    "if REBUILD_FLAG or not os.path.exists(model_path):\n",
    "    #Build the model\n",
    "    encdec_model_enh = encdec_model(\n",
    "        tmp_x.shape,\n",
    "        max_french_sequence_length,\n",
    "        english_vocab_size,\n",
    "        french_vocab_size)\n",
    "    # Train the neural network    \n",
    "    encdec_model_enh.fit(tmp_x, preproc_french_sentences_train, \n",
    "                         batch_size=1024, epochs=10, \n",
    "                         validation_split=0.1)\n",
    "    #Save the model\n",
    "    encdec_model_enh.save(model_path)\n",
    "else:\n",
    "    #Load the saved model\n",
    "    encdec_model_enh = load_model(model_path)\n",
    "\n",
    "# Print prediction(s)\n",
    "print(logits_to_text(encdec_model_enh.predict(tmp_x[:1])[0], \n",
    "                     french_tokenizer))\n",
    "print('Label translation:\\n{}'.format(french_sentences_train[0]))"
   ]
  },
  {
   "cell_type": "markdown",
   "metadata": {},
   "source": [
    "### Evaluate Encoder-Decoder Model With Test Dataset (Optional Enhancement)"
   ]
  },
  {
   "cell_type": "code",
   "execution_count": 24,
   "metadata": {},
   "outputs": [
    {
     "name": "stdout",
     "output_type": "stream",
     "text": [
      "Encoder-Decoder model accuracy with test dataset: 78.39%\n"
     ]
    }
   ],
   "source": [
    "#Evaluate the model with the test dataset\n",
    "\n",
    "# Reshaping the test data is not needed\n",
    "test_x = preproc_english_sentences_test\n",
    "\n",
    "# Evaluate the model on the unseen test data\n",
    "score, accuracy = encdec_model_enh.evaluate(test_x, \n",
    "                            preproc_french_sentences_test, verbose=0)\n",
    "\n",
    "print(\"Encoder-Decoder model accuracy with test dataset: {0:.2f}%\".format(accuracy*100))"
   ]
  },
  {
   "cell_type": "markdown",
   "metadata": {},
   "source": [
    "### Model 5: Custom (IMPLEMENTATION)\n",
    "Use everything you learned from the previous models to create a model that incorporates embedding and a bidirectional rnn into one model."
   ]
  },
  {
   "cell_type": "code",
   "execution_count": 25,
   "metadata": {
    "scrolled": true
   },
   "outputs": [
    {
     "name": "stdout",
     "output_type": "stream",
     "text": [
      "Final Model Loaded\n"
     ]
    }
   ],
   "source": [
    "def model_final(input_shape, output_sequence_length, english_vocab_size, french_vocab_size):\n",
    "    \"\"\"\n",
    "    Build and train a model that incorporates embedding, encoder-decoder, and bidirectional RNN on x and y\n",
    "    :param input_shape: Tuple of input shape\n",
    "    :param output_sequence_length: Length of output sequence\n",
    "    :param english_vocab_size: Number of unique English words in the dataset\n",
    "    :param french_vocab_size: Number of unique French words in the dataset\n",
    "    :return: Keras model built, but not trained\n",
    "    \"\"\"\n",
    "    # TODO: Implement\n",
    "    word2vec_size = 512\n",
    "    rnn_units = 512\n",
    "    learning_rate = 1e-3\n",
    "    # Embedding - Bidirectional RNN - Dense Softmax\n",
    "    input_seq = Input(shape=input_shape[1:])\n",
    "    embed = Embedding(english_vocab_size, word2vec_size, \n",
    "                      input_length=input_shape[1],mask_zero=False)(input_seq)\n",
    "    rnn = Bidirectional(GRU(rnn_units, return_sequences=True, dropout=0.2))(embed)\n",
    "    logits = TimeDistributed(Dense(french_vocab_size))(rnn)\n",
    "    output = Activation('softmax')(logits)\n",
    "    model = Model(input_seq, output)\n",
    "\n",
    "    model.compile(loss=sparse_categorical_crossentropy,\n",
    "                  optimizer=Adam(learning_rate),\n",
    "                  metrics=['accuracy'])\n",
    "    return model\n",
    "\n",
    "# Commenting out the test as it requires input timesteps to be different\n",
    "# from output. No satisfactory way of handling this was found on the discussion\n",
    "# forum and elsewhere without the encoder-decoder architecture (which has proved \n",
    "# tricky to implement with high accuracy).\n",
    "\n",
    "#tests.test_model_final(model_final_2)\n",
    "\n",
    "print('Final Model Loaded')"
   ]
  },
  {
   "cell_type": "code",
   "execution_count": 26,
   "metadata": {
    "scrolled": true
   },
   "outputs": [
    {
     "name": "stdout",
     "output_type": "stream",
     "text": [
      "_________________________________________________________________\n",
      "Layer (type)                 Output Shape              Param #   \n",
      "=================================================================\n",
      "input_13 (InputLayer)        (None, 21)                0         \n",
      "_________________________________________________________________\n",
      "embedding_7 (Embedding)      (None, 21, 512)           102400    \n",
      "_________________________________________________________________\n",
      "bidirectional_4 (Bidirection (None, 21, 1024)          3148800   \n",
      "_________________________________________________________________\n",
      "time_distributed_12 (TimeDis (None, 21, 345)           353625    \n",
      "_________________________________________________________________\n",
      "activation_12 (Activation)   (None, 21, 345)           0         \n",
      "=================================================================\n",
      "Total params: 3,604,825\n",
      "Trainable params: 3,604,825\n",
      "Non-trainable params: 0\n",
      "_________________________________________________________________\n",
      "Train on 110288 samples, validate on 27573 samples\n",
      "Epoch 1/12\n",
      "110288/110288 [==============================] - 54s 494us/step - loss: 2.1344 - acc: 0.5734 - val_loss: 1.0425 - val_acc: 0.7489\n",
      "Epoch 2/12\n",
      "110288/110288 [==============================] - 53s 481us/step - loss: 0.7373 - acc: 0.8015 - val_loss: 0.5116 - val_acc: 0.8515\n",
      "Epoch 3/12\n",
      "110288/110288 [==============================] - 53s 482us/step - loss: 0.4133 - acc: 0.8756 - val_loss: 0.3211 - val_acc: 0.9015\n",
      "Epoch 4/12\n",
      "110288/110288 [==============================] - 53s 482us/step - loss: 0.2807 - acc: 0.9136 - val_loss: 0.2302 - val_acc: 0.9305\n",
      "Epoch 5/12\n",
      "110288/110288 [==============================] - 53s 481us/step - loss: 0.2071 - acc: 0.9361 - val_loss: 0.1811 - val_acc: 0.9449\n",
      "Epoch 6/12\n",
      "110288/110288 [==============================] - 53s 481us/step - loss: 0.1636 - acc: 0.9494 - val_loss: 0.1472 - val_acc: 0.9555\n",
      "Epoch 7/12\n",
      "110288/110288 [==============================] - 53s 482us/step - loss: 0.1347 - acc: 0.9586 - val_loss: 0.1262 - val_acc: 0.9609\n",
      "Epoch 8/12\n",
      "110288/110288 [==============================] - 53s 482us/step - loss: 0.1150 - acc: 0.9645 - val_loss: 0.1126 - val_acc: 0.9653\n",
      "Epoch 9/12\n",
      "110288/110288 [==============================] - 53s 481us/step - loss: 0.1010 - acc: 0.9687 - val_loss: 0.0969 - val_acc: 0.9705\n",
      "Epoch 10/12\n",
      "110288/110288 [==============================] - 53s 480us/step - loss: 0.0892 - acc: 0.9721 - val_loss: 0.0900 - val_acc: 0.9726\n",
      "Epoch 11/12\n",
      "110288/110288 [==============================] - 53s 480us/step - loss: 0.0801 - acc: 0.9751 - val_loss: 0.0838 - val_acc: 0.9748\n",
      "Epoch 12/12\n",
      "110288/110288 [==============================] - 53s 480us/step - loss: 0.0725 - acc: 0.9775 - val_loss: 0.0780 - val_acc: 0.9765\n",
      "new jersey est parfois calme pendant l' automne et il est neigeux en avril <PAD> <PAD> <PAD> <PAD> <PAD> <PAD> <PAD>\n",
      "Label translation:\n",
      "new jersey est parfois calme pendant l' automne , et il est neigeux en avril .\n"
     ]
    }
   ],
   "source": [
    "# Make the input timesteps same as output\n",
    "tmp_x = pad(preproc_english_sentences, max_french_sequence_length)\n",
    "\n",
    "REBUILD_FLAG = True\n",
    "model_path = os.path.join(MODELS_DIR, 'custom_model.h5')\n",
    "if REBUILD_FLAG or not os.path.exists(model_path):\n",
    "    # TODO: Train the final model\n",
    "    #Build the model\n",
    "    custom_model = model_final(\n",
    "        tmp_x.shape,\n",
    "        max_french_sequence_length,\n",
    "        english_vocab_size,\n",
    "        french_vocab_size)\n",
    "    #Print model summary\n",
    "    custom_model.summary()\n",
    "    # Train the neural network    \n",
    "    custom_model.fit(tmp_x, preproc_french_sentences, batch_size=1024, epochs=12, \n",
    "                     validation_split=0.2)\n",
    "    #Save the model\n",
    "    custom_model.save(model_path)\n",
    "else:\n",
    "    #Load the saved model\n",
    "    custom_model = load_model(model_path)\n",
    "    #Print model summary\n",
    "    custom_model.summary()\n",
    "\n",
    "# Print prediction(s)\n",
    "print(logits_to_text(custom_model.predict(tmp_x[:1])[0], \n",
    "                                            french_tokenizer))\n",
    "print('Label translation:\\n{}'.format(french_sentences[0]))"
   ]
  },
  {
   "cell_type": "markdown",
   "metadata": {},
   "source": [
    "### Model 5: Custom Model With Split Train and Test Datasets (Optional Enhancement)"
   ]
  },
  {
   "cell_type": "code",
   "execution_count": 28,
   "metadata": {},
   "outputs": [
    {
     "name": "stdout",
     "output_type": "stream",
     "text": [
      "Train on 111666 samples, validate on 12408 samples\n",
      "Epoch 1/12\n",
      "111666/111666 [==============================] - 54s 482us/step - loss: 2.0657 - acc: 0.5867 - val_loss: 1.0202 - val_acc: 0.7444\n",
      "Epoch 2/12\n",
      "111666/111666 [==============================] - 52s 461us/step - loss: 0.7047 - acc: 0.8076 - val_loss: 0.5087 - val_acc: 0.8516\n",
      "Epoch 3/12\n",
      "111666/111666 [==============================] - 52s 461us/step - loss: 0.4098 - acc: 0.8757 - val_loss: 0.3460 - val_acc: 0.8913\n",
      "Epoch 4/12\n",
      "111666/111666 [==============================] - 52s 461us/step - loss: 0.2817 - acc: 0.9133 - val_loss: 0.2425 - val_acc: 0.9258\n",
      "Epoch 5/12\n",
      "111666/111666 [==============================] - 51s 461us/step - loss: 0.2089 - acc: 0.9355 - val_loss: 0.1913 - val_acc: 0.9421\n",
      "Epoch 6/12\n",
      "111666/111666 [==============================] - 51s 461us/step - loss: 0.1663 - acc: 0.9489 - val_loss: 0.1608 - val_acc: 0.9512\n",
      "Epoch 7/12\n",
      "111666/111666 [==============================] - 51s 461us/step - loss: 0.1361 - acc: 0.9580 - val_loss: 0.1324 - val_acc: 0.9587\n",
      "Epoch 8/12\n",
      "111666/111666 [==============================] - 51s 461us/step - loss: 0.1198 - acc: 0.9627 - val_loss: 0.1081 - val_acc: 0.9666\n",
      "Epoch 9/12\n",
      "111666/111666 [==============================] - 52s 462us/step - loss: 0.1043 - acc: 0.9674 - val_loss: 0.0969 - val_acc: 0.9698\n",
      "Epoch 10/12\n",
      "111666/111666 [==============================] - 52s 462us/step - loss: 0.0904 - acc: 0.9717 - val_loss: 0.0854 - val_acc: 0.9732\n",
      "Epoch 11/12\n",
      "111666/111666 [==============================] - 52s 462us/step - loss: 0.0824 - acc: 0.9740 - val_loss: 0.0945 - val_acc: 0.9711\n",
      "Epoch 12/12\n",
      "111666/111666 [==============================] - 52s 462us/step - loss: 0.0758 - acc: 0.9759 - val_loss: 0.0709 - val_acc: 0.9780\n",
      "californie est parfois merveilleux au cours de l' automne mais il est généralement sec en juin <PAD> <PAD> <PAD> <PAD> <PAD>\n",
      "Label translation:\n",
      "californie est parfois merveilleux au cours de l' automne , mais il est généralement sec en juin .\n"
     ]
    }
   ],
   "source": [
    "# Pad the input\n",
    "tmp_x = pad(preproc_english_sentences_train, max_french_sequence_length)\n",
    "\n",
    "REBUILD_FLAG = True\n",
    "model_path = os.path.join(MODELS_DIR, 'custom_model_enh.h5')\n",
    "if REBUILD_FLAG or not os.path.exists(model_path):\n",
    "    #Build the model\n",
    "    custom_model_enh = model_final(\n",
    "        tmp_x.shape,\n",
    "        max_french_sequence_length,\n",
    "        english_vocab_size,\n",
    "        french_vocab_size)\n",
    "    # Train the neural network    \n",
    "    custom_model_enh.fit(tmp_x, preproc_french_sentences_train, \n",
    "                         batch_size=1024, epochs=12, \n",
    "                         validation_split=0.1)\n",
    "    #Save the model\n",
    "    custom_model_enh.save(model_path)\n",
    "else:\n",
    "    #Load the saved model\n",
    "    custom_model_enh = load_model(model_path)\n",
    "\n",
    "\n",
    "# Print prediction(s)\n",
    "print(logits_to_text(custom_model_enh.predict(tmp_x[:1])[0], \n",
    "                     french_tokenizer))\n",
    "print('Label translation:\\n{}'.format(french_sentences_train[0]))"
   ]
  },
  {
   "cell_type": "markdown",
   "metadata": {},
   "source": [
    "### Evaluate Custom Model With Test Dataset (Optional Enhancement)"
   ]
  },
  {
   "cell_type": "code",
   "execution_count": 29,
   "metadata": {},
   "outputs": [
    {
     "name": "stdout",
     "output_type": "stream",
     "text": [
      "Custom model accuracy with test dataset: 97.67%\n"
     ]
    }
   ],
   "source": [
    "#Evaluate the model with the test dataset\n",
    "\n",
    "# Pad the test data\n",
    "test_x = pad(preproc_english_sentences_test, max_french_sequence_length)\n",
    "\n",
    "# Evaluate the model on the unseen test data\n",
    "score, accuracy = custom_model_enh.evaluate(test_x, \n",
    "                            preproc_french_sentences_test, verbose=0)\n",
    "\n",
    "print(\"Custom model accuracy with test dataset: {0:.2f}%\".format(accuracy*100))"
   ]
  },
  {
   "cell_type": "markdown",
   "metadata": {},
   "source": [
    "## Prediction (IMPLEMENTATION)"
   ]
  },
  {
   "cell_type": "code",
   "execution_count": 30,
   "metadata": {},
   "outputs": [
    {
     "name": "stdout",
     "output_type": "stream",
     "text": [
      "Sample 1:\n",
      "il a vu un vieux camion jaune <PAD> <PAD> <PAD> <PAD> <PAD> <PAD> <PAD> <PAD> <PAD> <PAD> <PAD> <PAD> <PAD> <PAD>\n",
      "Il a vu un vieux camion jaune\n",
      "Sample 2:\n",
      "new jersey est parfois calme pendant l' automne et il est neigeux en avril <PAD> <PAD> <PAD> <PAD> <PAD> <PAD> <PAD>\n",
      "new jersey est parfois calme pendant l' automne et il est neigeux en avril <PAD> <PAD> <PAD> <PAD> <PAD> <PAD> <PAD>\n"
     ]
    }
   ],
   "source": [
    "def final_predictions(x, y, x_tk, y_tk):\n",
    "    \"\"\"\n",
    "    Gets predictions using the final model\n",
    "    :param x: Preprocessed English data\n",
    "    :param y: Preprocessed French data\n",
    "    :param x_tk: English tokenizer\n",
    "    :param y_tk: French tokenizer\n",
    "    \"\"\"\n",
    "    # TODO: Train neural network using model_final\n",
    "    model = custom_model\n",
    "    # Make input and output timesteps equal by padding\n",
    "    x = pad(x, max_french_sequence_length)\n",
    "    \n",
    "    ## DON'T EDIT ANYTHING BELOW THIS LINE\n",
    "    y_id_to_word = {value: key for key, value in y_tk.word_index.items()}\n",
    "    y_id_to_word[0] = '<PAD>'\n",
    "\n",
    "    sentence = 'he saw a old yellow truck'\n",
    "    sentence = [x_tk.word_index[word] for word in sentence.split()]\n",
    "    sentence = pad_sequences([sentence], maxlen=x.shape[-1], padding='post')\n",
    "    sentences = np.array([sentence[0], x[0]])\n",
    "    predictions = model.predict(sentences, len(sentences))\n",
    "\n",
    "    print('Sample 1:')\n",
    "    print(' '.join([y_id_to_word[np.argmax(x)] for x in predictions[0]]))\n",
    "    print('Il a vu un vieux camion jaune')\n",
    "    print('Sample 2:')\n",
    "    print(' '.join([y_id_to_word[np.argmax(x)] for x in predictions[1]]))\n",
    "    print(' '.join([y_id_to_word[np.max(x)] for x in y[0]]))\n",
    "\n",
    "\n",
    "final_predictions(preproc_english_sentences, preproc_french_sentences, english_tokenizer, french_tokenizer)"
   ]
  },
  {
   "cell_type": "markdown",
   "metadata": {},
   "source": [
    "## Prediction With Split Train And Test Datasets (Optional Enhancement)"
   ]
  },
  {
   "cell_type": "code",
   "execution_count": 31,
   "metadata": {},
   "outputs": [
    {
     "name": "stdout",
     "output_type": "stream",
     "text": [
      "Prediction with train set sample:\n",
      "Sample 1:\n",
      "il a vu un vieux camion jaune <PAD> <PAD> <PAD> <PAD> <PAD> <PAD> <PAD> <PAD> <PAD> <PAD> <PAD> <PAD> <PAD> <PAD>\n",
      "Il a vu un vieux camion jaune\n",
      "Sample 2:\n",
      "californie est parfois merveilleux au cours de l' automne mais il est généralement sec en juin <PAD> <PAD> <PAD> <PAD> <PAD>\n",
      "californie est parfois merveilleux au cours de l' automne mais il est généralement sec en juin <PAD> <PAD> <PAD> <PAD> <PAD>\n",
      "\n",
      "Prediction with test set sample:\n",
      "Sample 1:\n",
      "il a vu un vieux camion jaune <PAD> <PAD> <PAD> <PAD> <PAD> <PAD> <PAD> <PAD> <PAD> <PAD> <PAD> <PAD> <PAD> <PAD>\n",
      "Il a vu un vieux camion jaune\n",
      "Sample 2:\n",
      "votre fruit préféré est moins l'orange mais mon préféré moins est la poire <PAD> <PAD> <PAD> <PAD> <PAD> <PAD> <PAD> <PAD>\n",
      "votre fruit préféré est moins l'orange mais mon préféré moins est la poire <PAD> <PAD> <PAD> <PAD> <PAD> <PAD> <PAD> <PAD>\n"
     ]
    }
   ],
   "source": [
    "def final_predictions(x, y, x_tk, y_tk):\n",
    "    \"\"\"\n",
    "    Gets predictions using the final model\n",
    "    :param x: Preprocessed English data\n",
    "    :param y: Preprocessed French data\n",
    "    :param x_tk: English tokenizer\n",
    "    :param y_tk: French tokenizer\n",
    "    \"\"\"\n",
    "    # TODO: Train neural network using model_final\n",
    "    model = custom_model\n",
    "    # Make input and output timesteps equal by padding\n",
    "    x = pad(x, max_french_sequence_length)\n",
    "    \n",
    "    ## DON'T EDIT ANYTHING BELOW THIS LINE\n",
    "    y_id_to_word = {value: key for key, value in y_tk.word_index.items()}\n",
    "    y_id_to_word[0] = '<PAD>'\n",
    "\n",
    "    sentence = 'he saw a old yellow truck'\n",
    "    sentence = [x_tk.word_index[word] for word in sentence.split()]\n",
    "    sentence = pad_sequences([sentence], maxlen=x.shape[-1], padding='post')\n",
    "    sentences = np.array([sentence[0], x[0]])\n",
    "    predictions = model.predict(sentences, len(sentences))\n",
    "\n",
    "    print('Sample 1:')\n",
    "    print(' '.join([y_id_to_word[np.argmax(x)] for x in predictions[0]]))\n",
    "    print('Il a vu un vieux camion jaune')\n",
    "    print('Sample 2:')\n",
    "    print(' '.join([y_id_to_word[np.argmax(x)] for x in predictions[1]]))\n",
    "    print(' '.join([y_id_to_word[np.max(x)] for x in y[0]]))\n",
    "\n",
    "print('Prediction with train set sample:')\n",
    "final_predictions(preproc_english_sentences_train, preproc_french_sentences_train, english_tokenizer, french_tokenizer)\n",
    "print('\\nPrediction with test set sample:')\n",
    "final_predictions(preproc_english_sentences_test, preproc_french_sentences_test, english_tokenizer, french_tokenizer)"
   ]
  },
  {
   "cell_type": "markdown",
   "metadata": {},
   "source": [
    "## Submission\n",
    "When you're ready to submit, complete the following steps:\n",
    "1. Review the [rubric](https://review.udacity.com/#!/rubrics/1004/view) to ensure your submission meets all requirements to pass\n",
    "2. Generate an HTML version of this notebook\n",
    "\n",
    "  - Run the next cell to attempt automatic generation (this is the recommended method in Workspaces)\n",
    "  - Navigate to **FILE -> Download as -> HTML (.html)**\n",
    "  - Manually generate a copy using `nbconvert` from your shell terminal\n",
    "```\n",
    "$ pip install nbconvert\n",
    "$ python -m nbconvert machine_translation.ipynb\n",
    "```\n",
    "  \n",
    "3. Submit the project\n",
    "\n",
    "  - If you are in a Workspace, simply click the \"Submit Project\" button (bottom towards the right)\n",
    "  \n",
    "  - Otherwise, add the following files into a zip archive and submit them \n",
    "  - `helper.py`\n",
    "  - `machine_translation.ipynb`\n",
    "  - `machine_translation.html`\n",
    "    - You can export the notebook by navigating to **File -> Download as -> HTML (.html)**."
   ]
  },
  {
   "cell_type": "markdown",
   "metadata": {},
   "source": [
    "### Generate the html\n",
    "\n",
    "**Save your notebook before running the next cell to generate the HTML output.** Then submit your project."
   ]
  },
  {
   "cell_type": "code",
   "execution_count": 2,
   "metadata": {},
   "outputs": [
    {
     "data": {
      "text/plain": [
       "['[NbConvertApp] Converting notebook machine_translation.ipynb to html',\n",
       " '[NbConvertApp] Writing 305996 bytes to machine_translation.html']"
      ]
     },
     "execution_count": 2,
     "metadata": {},
     "output_type": "execute_result"
    }
   ],
   "source": [
    "# Save before you run this cell!\n",
    "!!jupyter nbconvert *.ipynb"
   ]
  },
  {
   "cell_type": "markdown",
   "metadata": {},
   "source": [
    "## Optional Enhancements\n",
    "\n",
    "This project focuses on learning various network architectures for machine translation, but we don't evaluate the models according to best practices by splitting the data into separate test & training sets -- so the model accuracy is overstated. Use the [`sklearn.model_selection.train_test_split()`](http://scikit-learn.org/stable/modules/generated/sklearn.model_selection.train_test_split.html) function to create separate training & test datasets, then retrain each of the models using only the training set and evaluate the prediction accuracy using the hold out test set. Does the \"best\" model change?"
   ]
  }
 ],
 "metadata": {
  "kernelspec": {
   "display_name": "Python 3",
   "language": "python",
   "name": "python3"
  },
  "language_info": {
   "codemirror_mode": {
    "name": "ipython",
    "version": 3
   },
   "file_extension": ".py",
   "mimetype": "text/x-python",
   "name": "python",
   "nbconvert_exporter": "python",
   "pygments_lexer": "ipython3",
   "version": "3.6.3"
  }
 },
 "nbformat": 4,
 "nbformat_minor": 1
}
